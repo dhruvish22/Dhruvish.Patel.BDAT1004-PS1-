{
 "cells": [
  {
   "cell_type": "markdown",
   "id": "2e12d18f",
   "metadata": {},
   "source": [
    "Q1\n"
   ]
  },
  {
   "cell_type": "code",
   "execution_count": 2,
   "id": "69764f39",
   "metadata": {},
   "outputs": [
    {
     "name": "stdout",
     "output_type": "stream",
     "text": [
      "<class 'int'>\n",
      "<class 'float'>\n",
      "<class 'bool'>\n",
      "<class 'str'>\n",
      "<class 'int'>\n",
      "<class 'str'>\n",
      "<class 'str'>\n",
      "<class 'float'>\n",
      "<class 'int'>\n",
      "<class 'set'>\n",
      "<class 'float'>\n"
     ]
    }
   ],
   "source": [
    "print(type(5))\n",
    "print(type(5.0))\n",
    "print(type(5>1))\n",
    "print(type('5'))\n",
    "print(type(5*2))\n",
    "print(type('5'*2))\n",
    "print(type('5'+'2'))\n",
    "print(type(5/2))\n",
    "print(type(5%2))\n",
    "print(type({5,2,1}))\n",
    "print(type(3.14159))"
   ]
  },
  {
   "cell_type": "markdown",
   "id": "ce95c272",
   "metadata": {},
   "source": [
    "Q2(a)"
   ]
  },
  {
   "cell_type": "code",
   "execution_count": 3,
   "id": "b9cc84b9",
   "metadata": {},
   "outputs": [
    {
     "data": {
      "text/plain": [
       "34"
      ]
     },
     "execution_count": 3,
     "metadata": {},
     "output_type": "execute_result"
    }
   ],
   "source": [
    "len('Supercalifragilisticexpialidocious')"
   ]
  },
  {
   "cell_type": "markdown",
   "id": "c342ba7e",
   "metadata": {},
   "source": [
    "Q2(b)"
   ]
  },
  {
   "cell_type": "code",
   "execution_count": 5,
   "id": "a2e990f5",
   "metadata": {},
   "outputs": [
    {
     "name": "stdout",
     "output_type": "stream",
     "text": [
      "Found\n"
     ]
    }
   ],
   "source": [
    "s= 'Supercalifragilisticexpialidocious'\n",
    "if 'ice' in s:\n",
    "    print('Found')\n",
    "else:\n",
    "    print('Not Found')"
   ]
  },
  {
   "cell_type": "markdown",
   "id": "66fe9867",
   "metadata": {},
   "source": [
    "Q2(c)"
   ]
  },
  {
   "cell_type": "code",
   "execution_count": 9,
   "id": "ec9f147b",
   "metadata": {},
   "outputs": [
    {
     "name": "stdout",
     "output_type": "stream",
     "text": [
      "Supercalifragilisticexpialidocious\n"
     ]
    }
   ],
   "source": [
    "s='Supercalifragilisticexpialidocious'\n",
    "s1='Honorificabilitudinitatibus'\n",
    "s2='Bababadalgharaghtakamminarronnkonn'\n",
    "\n",
    "len(s)\n",
    "len(s1)\n",
    "len(s2)\n",
    "\n",
    "print(max(s,s1,s2))"
   ]
  },
  {
   "cell_type": "markdown",
   "id": "3c5608cd",
   "metadata": {},
   "source": [
    "Q2(d)"
   ]
  },
  {
   "cell_type": "code",
   "execution_count": 10,
   "id": "38c3506f",
   "metadata": {},
   "outputs": [
    {
     "name": "stdout",
     "output_type": "stream",
     "text": [
      "['Barodin', 'Bartok', 'Bellini', 'Berlioz', 'Bernstein', 'Brian', 'Buxtehude']\n"
     ]
    }
   ],
   "source": [
    "x=['Berlioz','Barodin','Brian','Bartok','Bellini','Buxtehude','Bernstein']\n",
    "x.sort()\n",
    "print(x)"
   ]
  },
  {
   "cell_type": "markdown",
   "id": "6c7026f6",
   "metadata": {},
   "source": [
    "Q3"
   ]
  },
  {
   "cell_type": "code",
   "execution_count": 23,
   "id": "ba4c9281",
   "metadata": {},
   "outputs": [
    {
     "name": "stdout",
     "output_type": "stream",
     "text": [
      "Enter side 1 of triangle:2\n",
      "Enter side 2 of triangle:2\n",
      "Enter side 3 of triangle:2\n",
      "1.7320508075688772\n"
     ]
    }
   ],
   "source": [
    "p=int(input(\"Enter side 1 of triangle:\"))\n",
    "q=int(input(\"Enter side 2 of triangle:\"))\n",
    "r=int(input(\"Enter side 3 of triangle:\"))\n",
    "def t_area(p,q,r):\n",
    "    x=(p+q+r)/2\n",
    "    area=(x*(x-p)*(x-q)*(x-r))**0.5\n",
    "    print(area)\n",
    "t_area(p,q,r)"
   ]
  },
  {
   "cell_type": "markdown",
   "id": "a417663d",
   "metadata": {},
   "source": [
    "Q4"
   ]
  },
  {
   "cell_type": "code",
   "execution_count": 26,
   "id": "b754d23c",
   "metadata": {},
   "outputs": [
    {
     "name": "stdout",
     "output_type": "stream",
     "text": [
      "Even list: [42, 56, 32]\n",
      "Odd list: [25, 47]\n"
     ]
    }
   ],
   "source": [
    "lst = [25,47,42,56,32]\n",
    "even=[]\n",
    "odd=[]\n",
    "for i in lst:\n",
    "    if (i%2==0):\n",
    "        even.append(i)\n",
    "    else:\n",
    "        odd.append(i)\n",
    "print(\"Even list:\",even)\n",
    "print(\"Odd list:\",odd)\n",
    "\n",
    "    "
   ]
  },
  {
   "cell_type": "markdown",
   "id": "a9f309e6",
   "metadata": {},
   "source": [
    "Q5(a)"
   ]
  },
  {
   "cell_type": "code",
   "execution_count": 1,
   "id": "fc76b38b",
   "metadata": {},
   "outputs": [],
   "source": [
    "def inisde(x,y,x1,y1,x2,y2):\n",
    "    if (x > x1 and x < x2 and\n",
    "        y > y1 and y < y2) :\n",
    "        return True \n",
    "    else :\n",
    "        return False"
   ]
  },
  {
   "cell_type": "markdown",
   "id": "6409fe10",
   "metadata": {},
   "source": [
    "Q5(b)"
   ]
  },
  {
   "cell_type": "code",
   "execution_count": 3,
   "id": "682e1c4a",
   "metadata": {},
   "outputs": [
    {
     "name": "stdout",
     "output_type": "stream",
     "text": [
      "enter x1:0.3\n",
      "enter y1:0.5\n",
      "enter x2:1.1\n",
      "enter y2:0.7\n",
      "point does not lies in the rectangle\n"
     ]
    }
   ],
   "source": [
    "def inside():\n",
    "    x=1\n",
    "    y=1\n",
    "    x1=float(input(\"enter x1:\"))\n",
    "    y1=float(input(\"enter y1:\"))\n",
    "    x2=float(input(\"enter x2:\"))\n",
    "    y2=float(input(\"enter y2:\"))\n",
    "    if(x>x1 and x<x2 and y>y1 and y<y2):\n",
    "        print(\"point lies in the rectangle\")\n",
    "    else:\n",
    "        print(\"point does not lies in the rectangle\")\n",
    "    \n",
    "inside()"
   ]
  },
  {
   "cell_type": "markdown",
   "id": "88ee7406",
   "metadata": {},
   "source": [
    "Q6"
   ]
  },
  {
   "cell_type": "code",
   "execution_count": 26,
   "id": "c3f0ae17",
   "metadata": {},
   "outputs": [
    {
     "name": "stdout",
     "output_type": "stream",
     "text": [
      "Enter any word:owl\n",
      "owlway\n"
     ]
    }
   ],
   "source": [
    "  v=['A','E','I','O','U','a','e','i','o','u']\n",
    "def pig():\n",
    "    x=input(\"Enter any word:\")\n",
    "    if x[0] in v:\n",
    "        print((x+\"way\").lower())\n",
    "    else:\n",
    "        print((x[1:]+ x[0]+\"ay\").lower())\n",
    "        \n",
    "pig()\n",
    " "
   ]
  },
  {
   "cell_type": "raw",
   "id": "c4abc598",
   "metadata": {},
   "source": [
    "Q7"
   ]
  },
  {
   "cell_type": "code",
   "execution_count": 16,
   "id": "10bc00a9",
   "metadata": {},
   "outputs": [
    {
     "name": "stdout",
     "output_type": "stream",
     "text": [
      "{'AB': 13, 'B': 1, 'O': 15, 'A': 15, '': 1}\n"
     ]
    }
   ],
   "source": [
    "def bldcount():\n",
    "    file=open(\"bloodtype1.txt\")\n",
    "    x=file.read()\n",
    "    y=x.replace('\\n','').split(\" \")\n",
    "    a={}\n",
    "    for i in y:\n",
    "        a[i]=y.count(i)\n",
    "    print(a)\n",
    "bldcount()"
   ]
  },
  {
   "cell_type": "markdown",
   "id": "b6f6a3c6",
   "metadata": {},
   "source": [
    "Q8"
   ]
  },
  {
   "cell_type": "code",
   "execution_count": null,
   "id": "7b4f04f8",
   "metadata": {},
   "outputs": [],
   "source": []
  },
  {
   "cell_type": "markdown",
   "id": "c6ec437f",
   "metadata": {},
   "source": [
    "Q9(1)"
   ]
  },
  {
   "cell_type": "code",
   "execution_count": 1,
   "id": "60f357da",
   "metadata": {},
   "outputs": [
    {
     "ename": "TypeError",
     "evalue": "unsupported operand type(s) for +: 'int' and 'str'",
     "output_type": "error",
     "traceback": [
      "\u001b[1;31m---------------------------------------------------------------------------\u001b[0m",
      "\u001b[1;31mTypeError\u001b[0m                                 Traceback (most recent call last)",
      "Input \u001b[1;32mIn [1]\u001b[0m, in \u001b[0;36m<cell line: 1>\u001b[1;34m()\u001b[0m\n\u001b[1;32m----> 1\u001b[0m \u001b[38;5;28mprint\u001b[39m(\u001b[38;5;241;43m9\u001b[39;49m\u001b[38;5;241;43m+\u001b[39;49m\u001b[38;5;124;43m'\u001b[39;49m\u001b[38;5;124;43md\u001b[39;49m\u001b[38;5;124;43m'\u001b[39;49m)\n",
      "\u001b[1;31mTypeError\u001b[0m: unsupported operand type(s) for +: 'int' and 'str'"
     ]
    }
   ],
   "source": [
    "print(9+'d')"
   ]
  },
  {
   "cell_type": "markdown",
   "id": "05248637",
   "metadata": {},
   "source": [
    "Q9(2)"
   ]
  },
  {
   "cell_type": "code",
   "execution_count": 17,
   "id": "73bebb41",
   "metadata": {},
   "outputs": [
    {
     "ename": "IndexError",
     "evalue": "list index out of range",
     "output_type": "error",
     "traceback": [
      "\u001b[1;31m---------------------------------------------------------------------------\u001b[0m",
      "\u001b[1;31mIndexError\u001b[0m                                Traceback (most recent call last)",
      "Input \u001b[1;32mIn [17]\u001b[0m, in \u001b[0;36m<cell line: 2>\u001b[1;34m()\u001b[0m\n\u001b[0;32m      1\u001b[0m num\u001b[38;5;241m=\u001b[39m[\u001b[38;5;124m'\u001b[39m\u001b[38;5;124mone\u001b[39m\u001b[38;5;124m'\u001b[39m,\u001b[38;5;124m'\u001b[39m\u001b[38;5;124mtwo\u001b[39m\u001b[38;5;124m'\u001b[39m,\u001b[38;5;124m'\u001b[39m\u001b[38;5;124mthree\u001b[39m\u001b[38;5;124m'\u001b[39m,\u001b[38;5;124m'\u001b[39m\u001b[38;5;124mfour\u001b[39m\u001b[38;5;124m'\u001b[39m,\u001b[38;5;124m'\u001b[39m\u001b[38;5;124mfive\u001b[39m\u001b[38;5;124m'\u001b[39m,\u001b[38;5;124m'\u001b[39m\u001b[38;5;124msix\u001b[39m\u001b[38;5;124m'\u001b[39m,\u001b[38;5;124m'\u001b[39m\u001b[38;5;124mseven\u001b[39m\u001b[38;5;124m'\u001b[39m,\u001b[38;5;124m'\u001b[39m\u001b[38;5;124meight\u001b[39m\u001b[38;5;124m'\u001b[39m,\u001b[38;5;124m'\u001b[39m\u001b[38;5;124mnine\u001b[39m\u001b[38;5;124m'\u001b[39m,\u001b[38;5;124m'\u001b[39m\u001b[38;5;124mten\u001b[39m\u001b[38;5;124m'\u001b[39m]\n\u001b[1;32m----> 2\u001b[0m \u001b[43mnum\u001b[49m\u001b[43m[\u001b[49m\u001b[38;5;241;43m11\u001b[39;49m\u001b[43m]\u001b[49m\n",
      "\u001b[1;31mIndexError\u001b[0m: list index out of range"
     ]
    }
   ],
   "source": [
    "num=['one','two','three','four','five','six','seven','eight','nine','ten']\n",
    "num[11]"
   ]
  },
  {
   "cell_type": "markdown",
   "id": "b183bdde",
   "metadata": {},
   "source": [
    "Q9(3)"
   ]
  },
  {
   "cell_type": "code",
   "execution_count": 18,
   "id": "19529db2",
   "metadata": {},
   "outputs": [
    {
     "ename": "ValueError",
     "evalue": "math domain error",
     "output_type": "error",
     "traceback": [
      "\u001b[1;31m---------------------------------------------------------------------------\u001b[0m",
      "\u001b[1;31mValueError\u001b[0m                                Traceback (most recent call last)",
      "Input \u001b[1;32mIn [18]\u001b[0m, in \u001b[0;36m<cell line: 2>\u001b[1;34m()\u001b[0m\n\u001b[0;32m      1\u001b[0m \u001b[38;5;28;01mimport\u001b[39;00m \u001b[38;5;21;01mmath\u001b[39;00m\n\u001b[1;32m----> 2\u001b[0m \u001b[43mmath\u001b[49m\u001b[38;5;241;43m.\u001b[39;49m\u001b[43msqrt\u001b[49m\u001b[43m(\u001b[49m\u001b[38;5;241;43m-\u001b[39;49m\u001b[38;5;241;43m1.2\u001b[39;49m\u001b[43m)\u001b[49m\n",
      "\u001b[1;31mValueError\u001b[0m: math domain error"
     ]
    }
   ],
   "source": [
    "import math\n",
    "math.sqrt(-1.2)"
   ]
  },
  {
   "cell_type": "markdown",
   "id": "adccfcb0",
   "metadata": {},
   "source": [
    "Q9(4)"
   ]
  },
  {
   "cell_type": "code",
   "execution_count": 19,
   "id": "f80131e1",
   "metadata": {},
   "outputs": [
    {
     "ename": "NameError",
     "evalue": "name 'x' is not defined",
     "output_type": "error",
     "traceback": [
      "\u001b[1;31m---------------------------------------------------------------------------\u001b[0m",
      "\u001b[1;31mNameError\u001b[0m                                 Traceback (most recent call last)",
      "Input \u001b[1;32mIn [19]\u001b[0m, in \u001b[0;36m<cell line: 2>\u001b[1;34m()\u001b[0m\n\u001b[0;32m      1\u001b[0m y\u001b[38;5;241m=\u001b[39m\u001b[38;5;241m4\u001b[39m\n\u001b[1;32m----> 2\u001b[0m \u001b[38;5;28mprint\u001b[39m(\u001b[38;5;124m\"\u001b[39m\u001b[38;5;124mThe value is:\u001b[39m\u001b[38;5;124m\"\u001b[39m,\u001b[43mx\u001b[49m)\n",
      "\u001b[1;31mNameError\u001b[0m: name 'x' is not defined"
     ]
    }
   ],
   "source": [
    "y=4\n",
    "print(\"The value is:\",x)"
   ]
  },
  {
   "cell_type": "markdown",
   "id": "60cacf2a",
   "metadata": {},
   "source": [
    "Q9(5)"
   ]
  },
  {
   "cell_type": "code",
   "execution_count": 20,
   "id": "38cd8030",
   "metadata": {},
   "outputs": [
    {
     "ename": "FileNotFoundError",
     "evalue": "[Errno 2] No such file or directory: 'georgian.txt'",
     "output_type": "error",
     "traceback": [
      "\u001b[1;31m---------------------------------------------------------------------------\u001b[0m",
      "\u001b[1;31mFileNotFoundError\u001b[0m                         Traceback (most recent call last)",
      "Input \u001b[1;32mIn [20]\u001b[0m, in \u001b[0;36m<cell line: 1>\u001b[1;34m()\u001b[0m\n\u001b[1;32m----> 1\u001b[0m file\u001b[38;5;241m=\u001b[39m\u001b[38;5;28;43mopen\u001b[39;49m\u001b[43m(\u001b[49m\u001b[38;5;124;43m'\u001b[39;49m\u001b[38;5;124;43mgeorgian.txt\u001b[39;49m\u001b[38;5;124;43m'\u001b[39;49m\u001b[43m)\u001b[49m\n\u001b[0;32m      2\u001b[0m \u001b[38;5;28mprint\u001b[39m(file)\n",
      "\u001b[1;31mFileNotFoundError\u001b[0m: [Errno 2] No such file or directory: 'georgian.txt'"
     ]
    }
   ],
   "source": [
    "file=open('georgian.txt')\n",
    "print(file)"
   ]
  },
  {
   "cell_type": "markdown",
   "id": "942016a2",
   "metadata": {},
   "source": [
    "Q10"
   ]
  },
  {
   "cell_type": "code",
   "execution_count": 23,
   "id": "c5703672",
   "metadata": {},
   "outputs": [
    {
     "name": "stdout",
     "output_type": "stream",
     "text": [
      "enter string:apple\n",
      "['a', 'p', 'p', 'l', 'e']\n",
      "dict_values([1, 2, 1, 1])\n"
     ]
    }
   ],
   "source": [
    "def frequencies():\n",
    "    x=input(\"enter string:\")\n",
    "    lst=list(x)\n",
    "    print(lst)\n",
    "    a={}\n",
    "    for i in lst:\n",
    "        a[i]=lst.count(i)\n",
    "    print(a.values())\n",
    "    \n",
    "frequencies()"
   ]
  },
  {
   "cell_type": "code",
   "execution_count": null,
   "id": "7ba749d4",
   "metadata": {},
   "outputs": [],
   "source": []
  }
 ],
 "metadata": {
  "kernelspec": {
   "display_name": "Python 3 (ipykernel)",
   "language": "python",
   "name": "python3"
  },
  "language_info": {
   "codemirror_mode": {
    "name": "ipython",
    "version": 3
   },
   "file_extension": ".py",
   "mimetype": "text/x-python",
   "name": "python",
   "nbconvert_exporter": "python",
   "pygments_lexer": "ipython3",
   "version": "3.9.12"
  }
 },
 "nbformat": 4,
 "nbformat_minor": 5
}
